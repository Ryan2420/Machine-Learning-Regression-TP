{
 "cells": [
  {
   "cell_type": "markdown",
   "id": "9eab7a2e-1653-45c0-a37b-0c00d5807ae9",
   "metadata": {},
   "source": [
    "# exo2 "
   ]
  },
  {
   "cell_type": "markdown",
   "id": "222f22cd-4144-4bfc-baec-7bf4ec3dbc51",
   "metadata": {},
   "source": [
    "## importing "
   ]
  },
  {
   "cell_type": "code",
   "execution_count": 2,
   "id": "77f5d49c-ba7c-462d-bbc8-d75b74733c01",
   "metadata": {},
   "outputs": [],
   "source": [
    "import numpy as np\n",
    "import pandas as pd\n",
    "from sklearn.linear_model import LinearRegression\n",
    "from sklearn.metrics import mean_squared_error"
   ]
  },
  {
   "cell_type": "markdown",
   "id": "fdf9e044-718b-44ff-b859-1098fbd1f17c",
   "metadata": {},
   "source": [
    "## 1. Définition des données"
   ]
  },
  {
   "cell_type": "code",
   "execution_count": 3,
   "id": "044d8649-2a89-4ae8-95e0-26d12bb98195",
   "metadata": {},
   "outputs": [],
   "source": [
    "Y = np.array([10, 7, 9])\n",
    "X1 = np.array([4, 2, 3])\n",
    "X2 = np.array([6, 5, 7])"
   ]
  },
  {
   "cell_type": "markdown",
   "id": "c46746e0-9fbd-4714-934f-117886cb5a55",
   "metadata": {},
   "source": [
    "## 2. Construction de la Matrice de Conception X"
   ]
  },
  {
   "cell_type": "code",
   "execution_count": 4,
   "id": "e4ee5696-37ef-4915-bdae-c5c826c24d5e",
   "metadata": {},
   "outputs": [
    {
     "name": "stdout",
     "output_type": "stream",
     "text": [
      "Vecteur des Notes (Y):\n",
      " [10  7  9]\n",
      "\n",
      "Matrice de Conception (X):\n",
      " [[1. 4. 6.]\n",
      " [1. 2. 5.]\n",
      " [1. 3. 7.]]\n"
     ]
    }
   ],
   "source": [
    "X = np.column_stack((np.ones(len(Y)), X1, X2))\n",
    "print(\"Vecteur des Notes (Y):\\n\", Y)\n",
    "print(\"\\nMatrice de Conception (X):\\n\", X)"
   ]
  },
  {
   "cell_type": "markdown",
   "id": "6033846a-2203-4879-8d5f-d6a1752edf99",
   "metadata": {},
   "source": [
    "## 3. calcul du ensemble beta1"
   ]
  },
  {
   "cell_type": "code",
   "execution_count": 5,
   "id": "22626c5f-4786-43ef-b7ac-7f0e9eca7ac9",
   "metadata": {},
   "outputs": [
    {
     "name": "stdout",
     "output_type": "stream",
     "text": [
      "Matrice (X^T X) :\n",
      " [[  3.   9.  18.]\n",
      " [  9.  29.  55.]\n",
      " [ 18.  55. 110.]]\n",
      "\n",
      "Matrice (X^T X)^-1 :\n",
      " [[18.3333 -0.     -3.    ]\n",
      " [ 0.      0.6667 -0.3333]\n",
      " [-3.     -0.3333  0.6667]]\n",
      "\n",
      "Vecteur (X^T Y) :\n",
      " [ 26.  81. 158.]\n",
      "\n",
      "Coefficients estimés (beta_hat) :\n",
      " [2.6667 1.3333 0.3333]\n",
      "\n",
      "Équation du modèle estimé : Ŷ = 2.67 + 1.33*X1 + 0.33*X2\n"
     ]
    }
   ],
   "source": [
    "XT = X.T\n",
    "XTX = XT @ X\n",
    "XTX_inv = np.linalg.inv(XTX)\n",
    "XTY = XT @ Y\n",
    "beta_hat = XTX_inv @ XTY\n",
    "print(\"Matrice (X^T X) :\\n\", XTX)\n",
    "print(\"\\nMatrice (X^T X)^-1 :\\n\", XTX_inv.round(4))\n",
    "print(\"\\nVecteur (X^T Y) :\\n\", XTY)\n",
    "print(\"\\nCoefficients estimés (beta_hat) :\\n\", beta_hat.round(4))\n",
    "\n",
    "\n",
    "print(f\"\\nÉquation du modèle estimé : Ŷ = {beta_hat[0]:.2f} + {beta_hat[1]:.2f}*X1 + {beta_hat[2]:.2f}*X2\")"
   ]
  },
  {
   "cell_type": "markdown",
   "id": "df219c73-b2da-4d20-b54c-38c845e7b079",
   "metadata": {},
   "source": [
    "## 3. Comparaison avec la Fonction de Régression Prédéfinie"
   ]
  },
  {
   "cell_type": "code",
   "execution_count": 6,
   "id": "dc5fc19f-17c0-49b4-ba92-51bf32eedc54",
   "metadata": {},
   "outputs": [
    {
     "name": "stdout",
     "output_type": "stream",
     "text": [
      "--- Question 3 : Comparaison des résultats (scikit-learn) ---\n",
      "Intercept (β0) estimé manuellement : 2.6667\n",
      "Intercept (β0) par sklearn : 2.6667\n",
      "\n",
      "Coefficient X1 (β1) estimé manuellement : 1.3333\n",
      "Coefficient X1 (β1) par sklearn : 1.3333\n",
      "\n",
      "Coefficient X2 (β2) estimé manuellement : 0.3333\n",
      "Coefficient X2 (β2) par sklearn : 0.3333\n",
      "\n",
      " Les résultats du calcul matriciel et de scikit-learn sont cohérents.\n"
     ]
    }
   ],
   "source": [
    "X_data_only = X[:, 1:]\n",
    "\n",
    "model_sklearn = LinearRegression()\n",
    "model_sklearn.fit(X_data_only, Y)\n",
    "\n",
    "\n",
    "beta0_sklearn = model_sklearn.intercept_\n",
    "beta1_sklearn, beta2_sklearn = model_sklearn.coef_\n",
    "\n",
    "print(\"--- Question 3 : Comparaison des résultats (scikit-learn) ---\")\n",
    "print(f\"Intercept (β0) estimé manuellement : {beta_hat[0]:.4f}\")\n",
    "print(f\"Intercept (β0) par sklearn : {beta0_sklearn:.4f}\")\n",
    "print(f\"\\nCoefficient X1 (β1) estimé manuellement : {beta_hat[1]:.4f}\")\n",
    "print(f\"Coefficient X1 (β1) par sklearn : {beta1_sklearn:.4f}\")\n",
    "print(f\"\\nCoefficient X2 (β2) estimé manuellement : {beta_hat[2]:.4f}\")\n",
    "print(f\"Coefficient X2 (β2) par sklearn : {beta2_sklearn:.4f}\")\n",
    "\n",
    "# La très petite différence est due aux erreurs d'arrondi\n",
    "if np.allclose(beta_hat, np.array([beta0_sklearn, beta1_sklearn, beta2_sklearn])):\n",
    "    print(\"\\n Les résultats du calcul matriciel et de scikit-learn sont cohérents.\")\n",
    "else:\n",
    "    print(\"\\n Les résultats sont différents.\")"
   ]
  },
  {
   "cell_type": "markdown",
   "id": "43991a8d-add8-4256-9b4e-c43a0d9d352a",
   "metadata": {},
   "source": [
    "## 4. Calcul du $R^2$ et du RMSE"
   ]
  },
  {
   "cell_type": "code",
   "execution_count": 7,
   "id": "522d9c38-a739-4351-bed1-aefd15373423",
   "metadata": {},
   "outputs": [
    {
     "name": "stdout",
     "output_type": "stream",
     "text": [
      "--- Question 4 : Calcul de R² et RMSE ---\n",
      "Prédictions du modèle (Ŷ) : [10.  7.  9.]\n",
      "Moyenne de Y (ȳ) : 8.6667\n",
      "Somme des Carrés des Résidus (SCR) : 0.0000\n",
      "Somme Totale des Carrés (SCT) : 4.6667\n",
      "\n",
      "Coefficient de Détermination (R²) : 1.0000\n",
      "Erreur Quadratique Moyenne (RMSE) : 0.0000\n",
      "-------------------------------------------\n",
      "\n",
      "--- Discussion sur la Qualité de l'Ajustement ---\n",
      "Le R² de 1.0000 indique qu'environ 100.00% de la variation de la note est expliquée par les heures de révision (X1) et de sommeil (X2).\n",
      "Un R² proche de 1 est idéal, mais ici, il est modéré, suggérant que le modèle n'est pas parfait et que d'autres variables influencent la note.\n",
      "Le RMSE de 0.0000 signifie que l'erreur moyenne de prédiction de la note est d'environ 0.00 points.\n",
      "---------------------------------------------------\n",
      "\n"
     ]
    }
   ],
   "source": [
    "\n",
    "Y_hat = X @ beta_hat\n",
    "\n",
    "Y_mean = np.mean(Y)\n",
    "\n",
    "\n",
    "SCR = np.sum((Y - Y_hat)**2)\n",
    "\n",
    "\n",
    "SCT = np.sum((Y - Y_mean)**2)\n",
    "\n",
    "\n",
    "R_squared = 1 - (SCR / SCT)\n",
    "\n",
    "\n",
    "n = len(Y)\n",
    "RMSE = np.sqrt(SCR / n)\n",
    "\n",
    "print(\"--- Question 4 : Calcul de R² et RMSE ---\")\n",
    "print(f\"Prédictions du modèle (Ŷ) : {Y_hat.round(4)}\")\n",
    "print(f\"Moyenne de Y (ȳ) : {Y_mean:.4f}\")\n",
    "print(f\"Somme des Carrés des Résidus (SCR) : {SCR:.4f}\")\n",
    "print(f\"Somme Totale des Carrés (SCT) : {SCT:.4f}\")\n",
    "print(f\"\\nCoefficient de Détermination (R²) : {R_squared:.4f}\")\n",
    "print(f\"Erreur Quadratique Moyenne (RMSE) : {RMSE:.4f}\")\n",
    "print(\"-------------------------------------------\\n\")\n",
    "\n",
    "print(\"--- Discussion sur la Qualité de l'Ajustement ---\")\n",
    "print(f\"Le R² de {R_squared:.4f} indique qu'environ {R_squared*100:.2f}% de la variation de la note est expliquée par les heures de révision (X1) et de sommeil (X2).\")\n",
    "print(f\"Un R² proche de 1 est idéal, mais ici, il est modéré, suggérant que le modèle n'est pas parfait et que d'autres variables influencent la note.\")\n",
    "print(f\"Le RMSE de {RMSE:.4f} signifie que l'erreur moyenne de prédiction de la note est d'environ {RMSE:.2f} points.\")\n",
    "print(\"---------------------------------------------------\\n\")"
   ]
  },
  {
   "cell_type": "markdown",
   "id": "019c4786-5d2b-4b9b-8015-f8c0c10c6815",
   "metadata": {},
   "source": [
    "## 5. Estimation de la Note Moyenne Prévue"
   ]
  },
  {
   "cell_type": "code",
   "execution_count": 8,
   "id": "10f85774-4e43-4b32-b2e3-02f5ee4d6836",
   "metadata": {},
   "outputs": [
    {
     "name": "stdout",
     "output_type": "stream",
     "text": [
      "Nouvelles données : X1 = 3.5, X2 = 6\n",
      "Note moyenne prévue (Ŷ) : 9.33\n"
     ]
    }
   ],
   "source": [
    "# Nouvelles données (X_new = [1, X1_new, X2_new])\n",
    "X1_new = 3.5\n",
    "X2_new = 6\n",
    "X_new = np.array([1, X1_new, X2_new])\n",
    "\n",
    "# Prédiction\n",
    "Y_predicted = X_new @ beta_hat\n",
    "\n",
    "\n",
    "print(f\"Nouvelles données : X1 = {X1_new}, X2 = {X2_new}\")\n",
    "print(f\"Note moyenne prévue (Ŷ) : {Y_predicted:.2f}\")\n"
   ]
  },
  {
   "cell_type": "code",
   "execution_count": null,
   "id": "f5108dfa-6f4f-4550-bd46-b72f8484304d",
   "metadata": {},
   "outputs": [],
   "source": []
  },
  {
   "cell_type": "code",
   "execution_count": null,
   "id": "060ffd67-b99a-425d-a76e-38d34a47f27f",
   "metadata": {},
   "outputs": [],
   "source": []
  },
  {
   "cell_type": "code",
   "execution_count": null,
   "id": "b30e804d-f4f9-4225-9378-e6d3b09f7d91",
   "metadata": {},
   "outputs": [],
   "source": []
  }
 ],
 "metadata": {
  "kernelspec": {
   "display_name": "Python 3 (ipykernel)",
   "language": "python",
   "name": "python3"
  },
  "language_info": {
   "codemirror_mode": {
    "name": "ipython",
    "version": 3
   },
   "file_extension": ".py",
   "mimetype": "text/x-python",
   "name": "python",
   "nbconvert_exporter": "python",
   "pygments_lexer": "ipython3",
   "version": "3.13.5"
  }
 },
 "nbformat": 4,
 "nbformat_minor": 5
}
